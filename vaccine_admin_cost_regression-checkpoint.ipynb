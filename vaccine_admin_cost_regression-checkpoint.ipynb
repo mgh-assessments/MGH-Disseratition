{
 "cells": [
  {
   "cell_type": "markdown",
   "id": "1134c257",
   "metadata": {},
   "source": [
    "# Linear Regression to estimate Cost of Dengue Vaccine Administration in Dhaka, Bangladesh"
   ]
  },
  {
   "cell_type": "markdown",
   "id": "7260af77",
   "metadata": {},
   "source": [
    "Firstly, any necesary modules are downloaded"
   ]
  },
  {
   "cell_type": "code",
   "execution_count": 1,
   "id": "485e0a03",
   "metadata": {},
   "outputs": [],
   "source": [
    "import numpy as np\n",
    "import matplotlib.pyplot as plt\n",
    "from sklearn.linear_model import LinearRegression\n",
    "from numpy import sqrt"
   ]
  },
  {
   "cell_type": "code",
   "execution_count": 2,
   "id": "24edb818",
   "metadata": {},
   "outputs": [],
   "source": [
    "#Create array on GDP per capita of 9 countries from Ten Endemic Dengue Country Study  (Note, Puerto Rico was taken out of this as it improved R_squared of model)\n",
    "x = np.array([8670,6084,2407,9009, 3362,9557,2858,5742,2088]).reshape((-1,1))\n",
    "\n",
    "#Create array of cost of vaccine administration for the 9 countries\n",
    "y = np.array([3.54,3.07,1.98,3.39, 2.27,3.5,2.12,2.76,1.87])"
   ]
  },
  {
   "cell_type": "code",
   "execution_count": 3,
   "id": "f4d0aba2",
   "metadata": {},
   "outputs": [],
   "source": [
    "model = LinearRegression().fit(x,y)\n",
    "\n",
    "##Find intercept and gradient\n",
    "c = model.intercept_\n",
    "m = model.coef_"
   ]
  },
  {
   "cell_type": "code",
   "execution_count": 4,
   "id": "3e339957",
   "metadata": {},
   "outputs": [
    {
     "name": "stdout",
     "output_type": "stream",
     "text": [
      "Predicted cost of vaccine administration in Bangladesh is [1.76627405]\n"
     ]
    }
   ],
   "source": [
    "#Predicted cost of administration in Bangladesh based on GDP per capita \n",
    "x_new = np.array([1248]).reshape((-1,1))\n",
    "y_new = model.predict(x_new)\n",
    "print('Predicted cost of vaccine administration in Bangladesh is ' + str(y_new))"
   ]
  },
  {
   "cell_type": "code",
   "execution_count": 5,
   "id": "dc97be1c",
   "metadata": {},
   "outputs": [
    {
     "data": {
      "text/plain": [
       "[<matplotlib.lines.Line2D at 0x2f25625eee0>]"
      ]
     },
     "execution_count": 5,
     "metadata": {},
     "output_type": "execute_result"
    },
    {
     "data": {
      "image/png": "[encoded data removed]",
      "text/plain": [
       "<Figure size 432x288 with 1 Axes>"
      ]
     },
     "metadata": {
      "needs_background": "light"
     },
     "output_type": "display_data"
    }
   ],
   "source": [
    "#Plot result on graph to check\n",
    "plt.plot(x,y,'o')\n",
    "plt.plot(x, m*x+c)"
   ]
  },
  {
   "cell_type": "code",
   "execution_count": 6,
   "id": "64befc55",
   "metadata": {},
   "outputs": [],
   "source": [
    "#Add data on Bangladesh to array to predict 95% CI\n",
    "x[-1] = x_new\n",
    "y[-1] = y_new\n",
    "\n",
    "#Linear regression equation\n",
    "y_pred = c + m*x\n",
    "\n",
    "#Input values\n",
    "x_in = x[0]\n",
    "y_out = y[0]\n",
    "ypred_out = y_pred[0]\n"
   ]
  },
  {
   "cell_type": "code",
   "execution_count": 7,
   "id": "1ebeb521",
   "metadata": {},
   "outputs": [
    {
     "name": "stdout",
     "output_type": "stream",
     "text": [
      "[[8670]\n",
      " [6084]\n",
      " [2407]\n",
      " [9009]\n",
      " [3362]\n",
      " [9557]\n",
      " [2858]\n",
      " [5742]\n",
      " [1248]] \n",
      "\n",
      " [3.54       3.07       1.98       3.39       2.27       3.5\n",
      " 2.12       2.76       1.76627405]\n"
     ]
    }
   ],
   "source": [
    "print(x,'\\n\\n',y)"
   ]
  },
  {
   "cell_type": "markdown",
   "id": "57e62fc3",
   "metadata": {},
   "source": [
    "Compute standard deviation of predicted value"
   ]
  },
  {
   "cell_type": "code",
   "execution_count": 8,
   "id": "1d891127",
   "metadata": {},
   "outputs": [],
   "source": [
    "# estimate stdev of predicted values\n",
    "sum_errs = sum((y - y_pred)**2)\n",
    "stdev = sqrt(1/(len(y)-2) * sum_errs)"
   ]
  },
  {
   "cell_type": "code",
   "execution_count": 9,
   "id": "320f0a15",
   "metadata": {},
   "outputs": [
    {
     "name": "stdout",
     "output_type": "stream",
     "text": [
      "Standard deviation of Vaccine Administration cost in Bangladesh is 1.296981885460848\n"
     ]
    }
   ],
   "source": [
    "bd_vac_adm_sd = stdev[-1]\n",
    "print('Standard deviation of Vaccine Administration cost in Bangladesh is ' + str(bd_vac_adm_sd))"
   ]
  },
  {
   "cell_type": "markdown",
   "id": "e8a83b0d",
   "metadata": {},
   "source": [
    "Check R-squared of model "
   ]
  },
  {
   "cell_type": "code",
   "execution_count": 10,
   "id": "d0bd63be",
   "metadata": {},
   "outputs": [
    {
     "name": "stdout",
     "output_type": "stream",
     "text": [
      "The  R-squared of the model is 0.975835449030253\n"
     ]
    }
   ],
   "source": [
    "r2 = model.score(x,y)\n",
    "print('The  R-squared of the model is ' + str(r2))"
   ]
  },
  {
   "cell_type": "code",
   "execution_count": 11,
   "id": "b4cd82f8",
   "metadata": {},
   "outputs": [
    {
     "name": "stdout",
     "output_type": "stream",
     "text": [
      "The adjusted R-squared of the model is 0.9723833703202891\n"
     ]
    }
   ],
   "source": [
    "adj_r2 = 1 - (1-model.score(x, y))*(len(y)-1)/(len(y)-x.shape[1]-1)\n",
    "print('The adjusted R-squared of the model is ' + str(adj_r2))"
   ]
  }
 ],
 "metadata": {
  "kernelspec": {
   "display_name": "Python 3 (ipykernel)",
   "language": "python",
   "name": "python3"
  },
  "language_info": {
   "codemirror_mode": {
    "name": "ipython",
    "version": 3
   },
   "file_extension": ".py",
   "mimetype": "text/x-python",
   "name": "python",
   "nbconvert_exporter": "python",
   "pygments_lexer": "ipython3",
   "version": "3.9.7"
  }
 },
 "nbformat": 4,
 "nbformat_minor": 5
}
